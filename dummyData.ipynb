{
 "cells": [
  {
   "cell_type": "code",
   "execution_count": 3,
   "metadata": {},
   "outputs": [
    {
     "ename": "ModuleNotFoundError",
     "evalue": "No module named 'joblib'",
     "output_type": "error",
     "traceback": [
      "\u001b[1;31m---------------------------------------------------------------------------\u001b[0m",
      "\u001b[1;31mModuleNotFoundError\u001b[0m                       Traceback (most recent call last)",
      "\u001b[1;32m~\\Desktop\\pythonCOURSE\\dummyML\\fn.py\u001b[0m in \u001b[0;36m<module>\u001b[1;34m()\u001b[0m\n\u001b[0;32m      1\u001b[0m \u001b[1;33m\u001b[0m\u001b[0m\n\u001b[0;32m      2\u001b[0m \u001b[1;32mfrom\u001b[0m \u001b[0mdatetime\u001b[0m \u001b[1;32mimport\u001b[0m \u001b[0mdatetime\u001b[0m\u001b[1;33m\u001b[0m\u001b[0m\n\u001b[1;32m----> 3\u001b[1;33m \u001b[1;32mimport\u001b[0m \u001b[0mjoblib\u001b[0m\u001b[1;33m\u001b[0m\u001b[0m\n\u001b[0m\u001b[0;32m      4\u001b[0m \u001b[1;32mimport\u001b[0m \u001b[0mpandas\u001b[0m \u001b[1;32mas\u001b[0m \u001b[0mpd\u001b[0m\u001b[1;33m\u001b[0m\u001b[0m\n\u001b[0;32m      5\u001b[0m \u001b[1;33m\u001b[0m\u001b[0m\n",
      "\u001b[1;31mModuleNotFoundError\u001b[0m: No module named 'joblib'"
     ]
    },
    {
     "name": "stderr",
     "output_type": "stream",
     "text": [
      "UsageError: Line magic function `%joblib` not found.\n"
     ]
    }
   ],
   "source": [
    "import pandas as pd \n",
    "%run fn.py\n",
    "%joblib inline\n",
    "\n",
    "\n",
    "df = pd.read_csv(\"MLData.csv\",skipinitialspace=True)\n",
    "# I have only taken the the students who only took the exam once \n",
    "final_grades = joblib.load('final_grades_merged.joblib')\n",
    "\n",
    "df = df[df.exercise !='Es']\n",
    "df.loc[:,'activity'] = df['activity'].apply(lambda x : x[0:x.index(\"Es\")-1] if 'Es' in  x  else x)\n",
    "df['working_time'] = df[['start_time','end_time']].apply(lambda x :get_time_in_seconds(x.start_time.strip(),x.end_time.strip()),axis=1)\n",
    "df.drop(['start_time','end_time','idle_time'],axis=1,inplace =True)\n",
    "df.loc[:,'activity'] = convert_to_numeric(df['activity'])\n",
    "d = {set: ['activity'], 'mean': df.columns[3:]  }\n",
    "\n",
    "df =df.groupby(['student_Id','exercise'],as_index=False ).agg(\n",
    "\n",
    "    {col: f for f,cols in d.items() for col in cols}\n",
    ")\n",
    "df['intermediate_grade'] = df[['student_Id','exercise']].apply(lambda x :get_the_Intermediate_grade(x.student_Id,x.exercise) , axis = 1 )\n",
    "df['grade'] = df[['student_Id','exercise']].apply(lambda x :get_the_grade(x.student_Id,x.exercise) , axis = 1 )\n",
    "\n",
    "df.drop(['student_Id'],axis=1,inplace =True)\n",
    "df['exercise'] = convert_to_numeric(df['exercise'])\n",
    "df = df[df.grade != 'nil']\n",
    "\n"
   ]
  },
  {
   "cell_type": "code",
   "execution_count": null,
   "metadata": {},
   "outputs": [],
   "source": []
  }
 ],
 "metadata": {
  "kernelspec": {
   "display_name": "Python 3",
   "language": "python",
   "name": "python3"
  },
  "language_info": {
   "codemirror_mode": {
    "name": "ipython",
    "version": 3
   },
   "file_extension": ".py",
   "mimetype": "text/x-python",
   "name": "python",
   "nbconvert_exporter": "python",
   "pygments_lexer": "ipython3",
   "version": "3.6.5"
  }
 },
 "nbformat": 4,
 "nbformat_minor": 2
}
